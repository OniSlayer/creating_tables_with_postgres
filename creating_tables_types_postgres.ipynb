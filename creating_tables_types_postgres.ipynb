{
 "cells": [
  {
   "cell_type": "code",
   "execution_count": 186,
   "metadata": {},
   "outputs": [],
   "source": [
    "import psycopg2\n"
   ]
  },
  {
   "cell_type": "code",
   "execution_count": 187,
   "metadata": {},
   "outputs": [],
   "source": [
    "conn=psycopg2.connect(\n",
    "  database=\"postgres\",\n",
    "  user=\"dum\",\n",
    "  host=\"/var/run/postgresql\"\n",
    ")"
   ]
  },
  {
   "cell_type": "code",
   "execution_count": 188,
   "metadata": {},
   "outputs": [],
   "source": [
    "cur = conn.cursor()"
   ]
  },
  {
   "cell_type": "code",
   "execution_count": 189,
   "metadata": {},
   "outputs": [],
   "source": [
    "cur.execute('''\n",
    "    drop table if exists ign_reviews\n",
    "''')\n",
    "conn.commit()"
   ]
  },
  {
   "cell_type": "code",
   "execution_count": 190,
   "metadata": {},
   "outputs": [],
   "source": [
    "cur.execute('''\n",
    "    create table ign_reviews(\n",
    "        id bigint primary key\n",
    "    )\n",
    "''')\n",
    "conn.commit()"
   ]
  },
  {
   "cell_type": "code",
   "execution_count": 191,
   "metadata": {},
   "outputs": [
    {
     "name": "stdout",
     "output_type": "stream",
     "text": [
      "creating_tables_types_postgres.Rmd    ign.csv\r\n",
      "creating_tables_types_postgres.ipynb  readme.md\r\n"
     ]
    }
   ],
   "source": [
    "!ls"
   ]
  },
  {
   "cell_type": "code",
   "execution_count": 192,
   "metadata": {},
   "outputs": [],
   "source": [
    "import csv\n",
    "f = open('ign.csv', 'r')\n",
    "next(f)\n",
    "read_csv = csv.reader(f)"
   ]
  },
  {
   "cell_type": "code",
   "execution_count": 193,
   "metadata": {},
   "outputs": [],
   "source": [
    "lens_for_char_scores = [len(item[1]) for item in read_csv]\n",
    "max_score = max(lens_for_char_scores)"
   ]
  },
  {
   "cell_type": "code",
   "execution_count": 194,
   "metadata": {},
   "outputs": [],
   "source": [
    "cur.execute('''\n",
    "    drop table ign_reviews\n",
    "''')\n",
    "conn.commit()"
   ]
  },
  {
   "cell_type": "code",
   "execution_count": 195,
   "metadata": {},
   "outputs": [],
   "source": [
    "cur.execute('''\n",
    "    create table ign_reviews(\n",
    "        id bigint primary key,\n",
    "        score_phrase varchar(11)\n",
    "    )\n",
    "''')\n",
    "conn.commit()"
   ]
  },
  {
   "cell_type": "code",
   "execution_count": 196,
   "metadata": {},
   "outputs": [],
   "source": [
    "cur.execute('''\n",
    "    drop table ign_reviews\n",
    "''')\n",
    "conn.commit()"
   ]
  },
  {
   "cell_type": "code",
   "execution_count": 197,
   "metadata": {},
   "outputs": [],
   "source": [
    "cur.execute('''\n",
    "    create table ign_reviews(\n",
    "        id bigint primary key,\n",
    "        score_phrase varchar(11),\n",
    "        title text,\n",
    "        url text,\n",
    "        platform varchar(20),\n",
    "        genre varchar(25)\n",
    "    )\n",
    "''')\n",
    "conn.commit()"
   ]
  },
  {
   "cell_type": "code",
   "execution_count": 198,
   "metadata": {},
   "outputs": [],
   "source": [
    "cur.execute('''\n",
    "    drop table ign_reviews\n",
    "''')\n",
    "conn.commit()"
   ]
  },
  {
   "cell_type": "code",
   "execution_count": 199,
   "metadata": {},
   "outputs": [],
   "source": [
    "cur.execute('''\n",
    "    create table ign_reviews(\n",
    "        id bigint primary key,\n",
    "        score_phrase varchar(11),\n",
    "        title text,\n",
    "        url text,\n",
    "        platform varchar(20),\n",
    "        genre varchar(25),\n",
    "        score DECIMAL(3, 1)\n",
    "    )\n",
    "''')\n",
    "conn.commit()"
   ]
  },
  {
   "cell_type": "code",
   "execution_count": 200,
   "metadata": {},
   "outputs": [],
   "source": [
    "cur.execute('''\n",
    "    drop table ign_reviews\n",
    "''')\n",
    "conn.commit()"
   ]
  },
  {
   "cell_type": "code",
   "execution_count": 201,
   "metadata": {},
   "outputs": [],
   "source": [
    "conn.rollback()\n",
    "cur.execute('''\n",
    "     create table ign_reviews(\n",
    "        id bigint primary key,\n",
    "        score_phrase varchar(11),\n",
    "        title text,\n",
    "        url text,\n",
    "        platform varchar(20),\n",
    "        genre varchar(25),\n",
    "        score DECIMAL(3, 1),\n",
    "        editors_choice BOOLEAN\n",
    "    )\n",
    "''')\n",
    "conn.commit()"
   ]
  },
  {
   "cell_type": "code",
   "execution_count": 202,
   "metadata": {},
   "outputs": [],
   "source": [
    "cur.execute('''\n",
    "    drop table ign_reviews\n",
    "''')\n",
    "conn.commit()"
   ]
  },
  {
   "cell_type": "code",
   "execution_count": 203,
   "metadata": {},
   "outputs": [],
   "source": [
    "# This is the final creation of the table using types\n",
    "# as bigint, varchar, text, date, decimal and boolean\n",
    "\n",
    "f = open('ign.csv', 'r')\n",
    "next(f)\n",
    "read_csv = csv.reader(f)\n",
    "\n",
    "conn.rollback()\n",
    "cur.execute('''\n",
    "    drop table if exists ign_reviews\n",
    "''')\n",
    "conn.commit()\n",
    "cur.execute('''\n",
    "     create table ign_reviews(\n",
    "        id bigint primary key,\n",
    "        score_phrase varchar(11),\n",
    "        title text,\n",
    "        url text,\n",
    "        platform varchar(20),\n",
    "        score DECIMAL(3, 1),\n",
    "        genre varchar(25),\n",
    "        editors_choice BOOLEAN,\n",
    "        release_date DATE\n",
    "    )\n",
    "''')\n",
    "conn.commit()"
   ]
  },
  {
   "cell_type": "code",
   "execution_count": 204,
   "metadata": {},
   "outputs": [],
   "source": [
    "# Here, each row is modified creating the date of the post and inserting\n",
    "# each row into the database using the postgres syntax to insert an array\n",
    "\n",
    "from datetime import date\n",
    "for item in read_csv:\n",
    "    final_row = item[:8]\n",
    "    f_date = date(int(item[8]), int(item[9]), int(item[10]))\n",
    "    final_row.append(f_date)\n",
    "    cur.execute('''\n",
    "        insert into ign_reviews values(%s, %s, %s, %s, %s, %s, %s, %s, %s) \n",
    "    ''', (final_row))\n",
    "\n",
    "conn.commit()\n",
    "    \n",
    "    "
   ]
  },
  {
   "cell_type": "code",
   "execution_count": 205,
   "metadata": {},
   "outputs": [
    {
     "data": {
      "text/plain": [
       "[(5249979066121302517,\n",
       "  'Amazing',\n",
       "  'LittleBigPlanet PS Vita',\n",
       "  '/games/littlebigplanet-vita/vita-98907',\n",
       "  'PlayStation Vita',\n",
       "  Decimal('9.0'),\n",
       "  'Platformer',\n",
       "  True,\n",
       "  datetime.date(2012, 9, 12)),\n",
       " (7399589116837456607,\n",
       "  'Amazing',\n",
       "  'LittleBigPlanet PS Vita -- Marvel Super Hero Edition',\n",
       "  '/games/littlebigplanet-ps-vita-marvel-super-hero-edition/vita-20027059',\n",
       "  'PlayStation Vita',\n",
       "  Decimal('9.0'),\n",
       "  'Platformer',\n",
       "  True,\n",
       "  datetime.date(2012, 9, 12)),\n",
       " (582057716445789124,\n",
       "  'Great',\n",
       "  'Splice: Tree of Life',\n",
       "  '/games/splice/ipad-141070',\n",
       "  'iPad',\n",
       "  Decimal('8.5'),\n",
       "  'Puzzle',\n",
       "  False,\n",
       "  datetime.date(2012, 9, 12)),\n",
       " (1087608058291172412,\n",
       "  'Great',\n",
       "  'NHL 13',\n",
       "  '/games/nhl-13/xbox-360-128182',\n",
       "  'Xbox 360',\n",
       "  Decimal('8.5'),\n",
       "  'Sports',\n",
       "  False,\n",
       "  datetime.date(2012, 9, 11)),\n",
       " (7018639715332314491,\n",
       "  'Great',\n",
       "  'NHL 13',\n",
       "  '/games/nhl-13/ps3-128181',\n",
       "  'PlayStation 3',\n",
       "  Decimal('8.5'),\n",
       "  'Sports',\n",
       "  False,\n",
       "  datetime.date(2012, 9, 11)),\n",
       " (4355693531291048099,\n",
       "  'Good',\n",
       "  'Total War Battles: Shogun',\n",
       "  '/games/total-war-battles-shogun/mac-142565',\n",
       "  'Macintosh',\n",
       "  Decimal('7.0'),\n",
       "  'Strategy',\n",
       "  False,\n",
       "  datetime.date(2012, 9, 11)),\n",
       " (3501332431411006491,\n",
       "  'Awful',\n",
       "  'Double Dragon: Neon',\n",
       "  '/games/double-dragon-neon/xbox-360-131320',\n",
       "  'Xbox 360',\n",
       "  Decimal('3.0'),\n",
       "  'Fighting',\n",
       "  False,\n",
       "  datetime.date(2012, 9, 11)),\n",
       " (1936491312797304342,\n",
       "  'Amazing',\n",
       "  'Guild Wars 2',\n",
       "  '/games/guild-wars-2/pc-896298',\n",
       "  'PC',\n",
       "  Decimal('9.0'),\n",
       "  'RPG',\n",
       "  True,\n",
       "  datetime.date(2012, 9, 11)),\n",
       " (4499683446528355980,\n",
       "  'Awful',\n",
       "  'Double Dragon: Neon',\n",
       "  '/games/double-dragon-neon/ps3-131321',\n",
       "  'PlayStation 3',\n",
       "  Decimal('3.0'),\n",
       "  'Fighting',\n",
       "  False,\n",
       "  datetime.date(2012, 9, 11)),\n",
       " (8239395385945212840,\n",
       "  'Good',\n",
       "  'Total War Battles: Shogun',\n",
       "  '/games/total-war-battles-shogun/pc-142564',\n",
       "  'PC',\n",
       "  Decimal('7.0'),\n",
       "  'Strategy',\n",
       "  False,\n",
       "  datetime.date(2012, 9, 11)),\n",
       " (3595351650018309042,\n",
       "  'Good',\n",
       "  'Tekken Tag Tournament 2',\n",
       "  '/games/tekken-tag-tournament-2/ps3-124584',\n",
       "  'PlayStation 3',\n",
       "  Decimal('7.5'),\n",
       "  'Fighting',\n",
       "  False,\n",
       "  datetime.date(2012, 9, 11)),\n",
       " (5602626625780437638,\n",
       "  'Good',\n",
       "  'Tekken Tag Tournament 2',\n",
       "  '/games/tekken-tag-tournament-2/xbox-360-124581',\n",
       "  'Xbox 360',\n",
       "  Decimal('7.5'),\n",
       "  'Fighting',\n",
       "  False,\n",
       "  datetime.date(2012, 9, 11)),\n",
       " (7075780279211968901,\n",
       "  'Good',\n",
       "  'Wild Blood',\n",
       "  '/games/wild-blood/iphone-139363',\n",
       "  'iPhone',\n",
       "  Decimal('7.0'),\n",
       "  '',\n",
       "  False,\n",
       "  datetime.date(2012, 9, 10)),\n",
       " (6417925426618434982,\n",
       "  'Amazing',\n",
       "  'Mark of the Ninja',\n",
       "  '/games/mark-of-the-ninja-135615/xbox-360-129276',\n",
       "  'Xbox 360',\n",
       "  Decimal('9.0'),\n",
       "  'Action, Adventure',\n",
       "  True,\n",
       "  datetime.date(2012, 9, 7)),\n",
       " (2456465800505386285,\n",
       "  'Amazing',\n",
       "  'Mark of the Ninja',\n",
       "  '/games/mark-of-the-ninja-135615/pc-143761',\n",
       "  'PC',\n",
       "  Decimal('9.0'),\n",
       "  'Action, Adventure',\n",
       "  True,\n",
       "  datetime.date(2012, 9, 7))]"
      ]
     },
     "execution_count": 205,
     "metadata": {},
     "output_type": "execute_result"
    }
   ],
   "source": [
    "cur.execute('''\n",
    "    select * from ign_reviews limit 15\n",
    "''')\n",
    "data = cur.fetchall()\n",
    "conn.commit()\n",
    "data"
   ]
  }
 ],
 "metadata": {
  "kernelspec": {
   "display_name": "Python 3",
   "language": "python",
   "name": "python3"
  },
  "language_info": {
   "codemirror_mode": {
    "name": "ipython",
    "version": 3
   },
   "file_extension": ".py",
   "mimetype": "text/x-python",
   "name": "python",
   "nbconvert_exporter": "python",
   "pygments_lexer": "ipython3",
   "version": "3.7.3"
  }
 },
 "nbformat": 4,
 "nbformat_minor": 2
}
